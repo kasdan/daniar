{
 "cells": [
  {
   "cell_type": "markdown",
   "metadata": {
    "collapsed": true
   },
   "source": [
    "# Milestone Project 2 - Walkthrough Steps Workbook\n",
    "Below is a set of steps for you to follow to try to create the Blackjack Milestone Project game!"
   ]
  },
  {
   "cell_type": "markdown",
   "metadata": {},
   "source": [
    "## Game Play\n",
    "To play a hand of Blackjack the following steps must be followed:\n",
    "1. Create a deck of 52 cards\n",
    "2. Shuffle the deck\n",
    "3. Ask the Player for their bet\n",
    "4. Make sure that the Player's bet does not exceed their available chips\n",
    "5. Deal two cards to the Dealer and two cards to the Player\n",
    "6. Show only one of the Dealer's cards, the other remains hidden\n",
    "7. Show both of the Player's cards\n",
    "8. Ask the Player if they wish to Hit, and take another card\n",
    "9. If the Player's hand doesn't Bust (go over 21), ask if they'd like to Hit again.\n",
    "10. If a Player Stands, play the Dealer's hand. The dealer will always Hit until the Dealer's value meets or exceeds 17\n",
    "11. Determine the winner and adjust the Player's chips accordingly\n",
    "12. Ask the Player if they'd like to play again"
   ]
  },
  {
   "cell_type": "markdown",
   "metadata": {},
   "source": [
    "## Playing Cards\n",
    "A standard deck of playing cards has four suits (Hearts, Diamonds, Spades and Clubs) and thirteen ranks (2 through 10, then the face cards Jack, Queen, King and Ace) for a total of 52 cards per deck. Jacks, Queens and Kings all have a rank of 10. Aces have a rank of either 11 or 1 as needed to reach 21 without busting. As a starting point in your program, you may want to assign variables to store a list of suits, ranks, and then use a dictionary to map ranks to values."
   ]
  },
  {
   "cell_type": "markdown",
   "metadata": {},
   "source": [
    "## The Game\n",
    "### Imports and Global Variables\n",
    "** Step 1: Import the random module. This will be used to shuffle the deck prior to dealing. Then, declare variables to store suits, ranks and values. You can develop your own system, or copy ours below. Finally, declare a Boolean value to be used to control <code>while</code> loops. This is a common practice used to control the flow of the game.**\n",
    "\n",
    "    suits = ('Hearts', 'Diamonds', 'Spades', 'Clubs')\n",
    "    ranks = ('Two', 'Three', 'Four', 'Five', 'Six', 'Seven', 'Eight', 'Nine', 'Ten', 'Jack', 'Queen', 'King', 'Ace')\n",
    "    values = {'Two':2, 'Three':3, 'Four':4, 'Five':5, 'Six':6, 'Seven':7, 'Eight':8, 'Nine':9, 'Ten':10, 'Jack':10,\n",
    "             'Queen':10, 'King':10, 'Ace':11}"
   ]
  },
  {
   "cell_type": "code",
   "execution_count": 1,
   "metadata": {},
   "outputs": [],
   "source": [
    "import random\n",
    "\n",
    "suits = ('Hearts', 'Diamonds', 'Spades', 'Clubs')\n",
    "ranks = ('Two', 'Three', 'Four', 'Five', 'Six', 'Seven', 'Eight', 'Nine', 'Ten', 'Jack', 'Queen', 'King', 'Ace')\n",
    "values = {'Two':2, 'Three':3, 'Four':4, 'Five':5, 'Six':6, 'Seven':7, 'Eight':8, 'Nine':9, 'Ten':10, 'Jack':10,\n",
    "         'Queen':10, 'King':10, 'Ace':11}\n",
    "\n",
    "playing = True"
   ]
  },
  {
   "cell_type": "markdown",
   "metadata": {},
   "source": [
    "### Class Definitions\n",
    "Consider making a Card class where each Card object has a suit and a rank, then a Deck class to hold all 52 Card objects, and can be shuffled, and finally a Hand class that holds those Cards that have been dealt to each player from the Deck."
   ]
  },
  {
   "cell_type": "markdown",
   "metadata": {},
   "source": [
    "**Step 2: Create a Card Class**<br>\n",
    "A Card object really only needs two attributes: suit and rank. You might add an attribute for \"value\" - we chose to handle value later when developing our Hand class.<br>In addition to the Card's \\_\\_init\\_\\_ method, consider adding a \\_\\_str\\_\\_ method that, when asked to print a Card, returns a string in the form \"Two of Hearts\""
   ]
  },
  {
   "cell_type": "code",
   "execution_count": 2,
   "metadata": {},
   "outputs": [],
   "source": [
    "class Card:\n",
    "    \n",
    "    def __init__(self,suit,rank):\n",
    "        self.suit=suit\n",
    "        self.rank=rank\n",
    "        \n",
    "    \n",
    "    def __str__(self):\n",
    "        return f'{self.rank} of {self.suit}'"
   ]
  },
  {
   "cell_type": "code",
   "execution_count": 3,
   "metadata": {},
   "outputs": [
    {
     "name": "stdout",
     "output_type": "stream",
     "text": [
      "Two of Hearts\n"
     ]
    }
   ],
   "source": [
    "card = Card(suits[0],ranks[0])\n",
    "print (card)"
   ]
  },
  {
   "cell_type": "markdown",
   "metadata": {},
   "source": [
    "**Step 3: Create a Deck Class**<br>\n",
    "Here we might store 52 card objects in a list that can later be shuffled. First, though, we need to *instantiate* all 52 unique card objects and add them to our list. So long as the Card class definition appears in our code, we can build Card objects inside our Deck \\_\\_init\\_\\_ method. Consider iterating over sequences of suits and ranks to build out each card. This might appear inside a Deck class \\_\\_init\\_\\_ method:\n",
    "\n",
    "    for suit in suits:\n",
    "        for rank in ranks:\n",
    "\n",
    "In addition to an \\_\\_init\\_\\_ method we'll want to add methods to shuffle our deck, and to deal out cards during gameplay.<br><br>\n",
    "OPTIONAL: We may never need to print the contents of the deck during gameplay, but having the ability to see the cards inside it may help troubleshoot any problems that occur during development. With this in mind, consider adding a \\_\\_str\\_\\_ method to the class definition."
   ]
  },
  {
   "cell_type": "code",
   "execution_count": null,
   "metadata": {},
   "outputs": [],
   "source": []
  },
  {
   "cell_type": "code",
   "execution_count": 4,
   "metadata": {},
   "outputs": [],
   "source": [
    "class Deck():\n",
    "    \n",
    "    def __init__(self):\n",
    "        self.deck = []  # start with an empty list\n",
    "        for suit in suits:\n",
    "            for rank in ranks:\n",
    "                self.deck+=[f'{rank} of {suit}']\n",
    "    \n",
    "    def __str__(self):\n",
    "        return f'{self.deck}'\n",
    "\n",
    "    def shuffle(self):\n",
    "        random.shuffle(self.deck)\n",
    "        \n",
    "    def deal(self):        \n",
    "        deal_card=self.deck[0]\n",
    "        self.deck.remove(self.deck[0])\n",
    "        return deal_card\n",
    "    def deck_return(self):\n",
    "        return self.deck"
   ]
  },
  {
   "cell_type": "code",
   "execution_count": 5,
   "metadata": {},
   "outputs": [
    {
     "name": "stdout",
     "output_type": "stream",
     "text": [
      "<class 'list'>\n"
     ]
    }
   ],
   "source": [
    "deck=Deck()\n",
    "deck1=deck.deck_return()\n",
    "print(type(deck1))"
   ]
  },
  {
   "cell_type": "markdown",
   "metadata": {},
   "source": [
    "TESTING: Just to see that everything works so far, let's see what our Deck looks like!"
   ]
  },
  {
   "cell_type": "code",
   "execution_count": 6,
   "metadata": {},
   "outputs": [
    {
     "name": "stdout",
     "output_type": "stream",
     "text": [
      "['Two of Hearts', 'Three of Hearts', 'Four of Hearts', 'Five of Hearts', 'Six of Hearts', 'Seven of Hearts', 'Eight of Hearts', 'Nine of Hearts', 'Ten of Hearts', 'Jack of Hearts', 'Queen of Hearts', 'King of Hearts', 'Ace of Hearts', 'Two of Diamonds', 'Three of Diamonds', 'Four of Diamonds', 'Five of Diamonds', 'Six of Diamonds', 'Seven of Diamonds', 'Eight of Diamonds', 'Nine of Diamonds', 'Ten of Diamonds', 'Jack of Diamonds', 'Queen of Diamonds', 'King of Diamonds', 'Ace of Diamonds', 'Two of Spades', 'Three of Spades', 'Four of Spades', 'Five of Spades', 'Six of Spades', 'Seven of Spades', 'Eight of Spades', 'Nine of Spades', 'Ten of Spades', 'Jack of Spades', 'Queen of Spades', 'King of Spades', 'Ace of Spades', 'Two of Clubs', 'Three of Clubs', 'Four of Clubs', 'Five of Clubs', 'Six of Clubs', 'Seven of Clubs', 'Eight of Clubs', 'Nine of Clubs', 'Ten of Clubs', 'Jack of Clubs', 'Queen of Clubs', 'King of Clubs', 'Ace of Clubs']\n",
      "Two of Hearts\n"
     ]
    }
   ],
   "source": [
    "test_deck=Deck()\n",
    "player=test_deck.deal()\n",
    "print(deck)\n",
    "print(player)"
   ]
  },
  {
   "cell_type": "markdown",
   "metadata": {},
   "source": [
    "Great! Now let's move on to our Hand class."
   ]
  },
  {
   "cell_type": "markdown",
   "metadata": {},
   "source": [
    "**Step 4: Create a Hand Class**<br>\n",
    "In addition to holding Card objects dealt from the Deck, the Hand class may be used to calculate the value of those cards using the values dictionary defined above. It may also need to adjust for the value of Aces when appropriate."
   ]
  },
  {
   "cell_type": "code",
   "execution_count": 7,
   "metadata": {},
   "outputs": [],
   "source": [
    "class Hand:\n",
    "    def __init__(self):\n",
    "        self.cards = []  # start with an empty list as we did in the Deck class\n",
    "        self.value = 0   # start with zero value\n",
    "        self.aces = 0    # add an attribute to keep track of aces\n",
    "    \n",
    "    def add_card(self,card):\n",
    "        for i in card:\n",
    "            self.cards+=[i]\n",
    "            cardtype=i.split()[0]\n",
    "            for face in values:\n",
    "                if cardtype==face:\n",
    "                    self.value+=values[face]\n",
    "                    if face == 'Ace':\n",
    "                        self.aces+=0\n",
    "         \n",
    "        \n",
    "        return (self.cards,self.value)\n",
    "    def adjust_for_ace(self):\n",
    "        if self.aces==1 and self.value<=21:\n",
    "            return self.value\n",
    "        elif self.aces==1 and self.value>21:\n",
    "            return self.value-10\n",
    "        elif self.aces==2 and self.value-10>21:\n",
    "            return self.value-20\n",
    "            \n",
    "        \n",
    "            \n",
    "            "
   ]
  },
  {
   "cell_type": "code",
   "execution_count": 8,
   "metadata": {},
   "outputs": [
    {
     "name": "stdout",
     "output_type": "stream",
     "text": [
      "2\n"
     ]
    }
   ],
   "source": [
    "hand=Hand()\n",
    "hand1=hand.add_card(['Two of Hearts'])\n",
    "print(hand1[1])"
   ]
  },
  {
   "cell_type": "markdown",
   "metadata": {},
   "source": [
    "**Step 5: Create a Chips Class**<br>\n",
    "In addition to decks of cards and hands, we need to keep track of a Player's starting chips, bets, and ongoing winnings. This could be done using global variables, but in the spirit of object oriented programming, let's make a Chips class instead!"
   ]
  },
  {
   "cell_type": "code",
   "execution_count": 9,
   "metadata": {},
   "outputs": [],
   "source": [
    "class Chips():\n",
    "    \n",
    "    def __init__(self):\n",
    "        self.total = 100  # This can be set to a default value or supplied by a user input\n",
    "        \n",
    "        \n",
    "    def win_bet(self,bet):\n",
    "        self.total=self.total+bet\n",
    "        return self.total\n",
    "    \n",
    "    def lose_bet(self,bet):\n",
    "        self.total=self.total-bet\n",
    "        return self.total\n",
    "    def bet_return(self,bet):\n",
    "        if bet>self.total:\n",
    "            return self.total-bet\n",
    "        else:\n",
    "            return self.total-bet\n",
    "    "
   ]
  },
  {
   "cell_type": "code",
   "execution_count": 10,
   "metadata": {},
   "outputs": [
    {
     "data": {
      "text/plain": [
       "90"
      ]
     },
     "execution_count": 10,
     "metadata": {},
     "output_type": "execute_result"
    }
   ],
   "source": [
    "chips=Chips()\n",
    "chips.bet_return(10)"
   ]
  },
  {
   "cell_type": "markdown",
   "metadata": {},
   "source": [
    "### Function Defintions\n",
    "A lot of steps are going to be repetitive. That's where functions come in! The following steps are guidelines - add or remove functions as needed in your own program."
   ]
  },
  {
   "cell_type": "markdown",
   "metadata": {},
   "source": [
    "**Step 6: Write a function for taking bets**<br>\n",
    "Since we're asking the user for an integer value, this would be a good place to use <code>try</code>/<code>except</code>. Remember to check that a Player's bet can be covered by their available chips."
   ]
  },
  {
   "cell_type": "code",
   "execution_count": 11,
   "metadata": {},
   "outputs": [],
   "source": [
    "def take_bet(chips):\n",
    "    while True:\n",
    "        try:\n",
    "            bet=int(input('Please place a bet'))\n",
    "        except:\n",
    "            print('Please enter interger value')\n",
    "            continue\n",
    "        else:\n",
    "            if chips>=bet:\n",
    "                return bet\n",
    "            else:\n",
    "                print('Not enough chips')\n",
    "                continue\n",
    "            \n",
    "    \n",
    "    "
   ]
  },
  {
   "cell_type": "markdown",
   "metadata": {},
   "source": [
    "**Step 7: Write a function for taking hits**<br>\n",
    "Either player can take hits until they bust. This function will be called during gameplay anytime a Player requests a hit, or a Dealer's hand is less than 17. It should take in Deck and Hand objects as arguments, and deal one card off the deck and add it to the Hand. You may want it to check for aces in the event that a player's hand exceeds 21."
   ]
  },
  {
   "cell_type": "code",
   "execution_count": 28,
   "metadata": {},
   "outputs": [],
   "source": [
    "def hit(playercards,deal):\n",
    "        playercards+= playerhand.add_card(deal)\n",
    "        return (playercards)\n",
    "        \n",
    "        \n",
    "    "
   ]
  },
  {
   "cell_type": "code",
   "execution_count": null,
   "metadata": {},
   "outputs": [],
   "source": []
  },
  {
   "cell_type": "markdown",
   "metadata": {},
   "source": [
    "**Step 8: Write a function prompting the Player to Hit or Stand**<br>\n",
    "This function should accept the deck and the player's hand as arguments, and assign playing as a global variable.<br>\n",
    "If the Player Hits, employ the hit() function above. If the Player Stands, set the playing variable to False - this will control the behavior of a <code>while</code> loop later on in our code."
   ]
  },
  {
   "cell_type": "code",
   "execution_count": 13,
   "metadata": {},
   "outputs": [],
   "source": [
    "def hit_or_stand():\n",
    "    global playing  # to control an upcoming while loop\n",
    "    play=input('Hit or Stand')\n",
    "    if play.lower()=='hit':\n",
    "        return hit()\n",
    "    else:\n",
    "        playing = False"
   ]
  },
  {
   "cell_type": "code",
   "execution_count": null,
   "metadata": {},
   "outputs": [],
   "source": []
  },
  {
   "cell_type": "markdown",
   "metadata": {},
   "source": [
    "**Step 9: Write functions to display cards**<br>\n",
    "When the game starts, and after each time Player takes a card, the dealer's first card is hidden and all of Player's cards are visible. At the end of the hand all cards are shown, and you may want to show each hand's total value. Write a function for each of these scenarios."
   ]
  },
  {
   "cell_type": "code",
   "execution_count": 14,
   "metadata": {},
   "outputs": [],
   "source": [
    "def show_some(player,dealer):\n",
    "    playercard=[]\n",
    "    dealercard=[]\n",
    "    for i in player:\n",
    "        playercard+= [f\"{i}\"]\n",
    "    for i in range(0,len(dealer)):\n",
    "        if i ==0:\n",
    "            dealercard+=[\"Hidden card\"]\n",
    "        else:\n",
    "            dealercard+=[f\"{dealer[i]}\"]\n",
    "    return (playercard,dealercard)\n",
    "    \n",
    "def show_all(player,dealer):\n",
    "    for i in player:\n",
    "        print(f\"player's cards are {i} \")\n",
    "    for i in dealer:\n",
    "        print(f\"Dealer's cards are {i}\")\n",
    "    "
   ]
  },
  {
   "cell_type": "markdown",
   "metadata": {},
   "source": [
    "**Step 10: Write functions to handle end of game scenarios**<br>\n",
    "Remember to pass player's hand, dealer's hand and chips as needed."
   ]
  },
  {
   "cell_type": "code",
   "execution_count": 15,
   "metadata": {},
   "outputs": [],
   "source": [
    "def player_busts(players_hand,dealers_hand):\n",
    "    if players_hand>21 or players_hand==21 and dealers_hand==21:\n",
    "        print ('Player is bust')\n",
    "            \n",
    "def player_wins(players_hand,dealers_hand):\n",
    "    if players_hand==21 and dealers_hand<21:\n",
    "        print ('Player wins')\n",
    "    elif players_hand>dealers_hand:\n",
    "        print (\"Player wins\")\n",
    "\n",
    "def dealer_busts(dealers_hand):\n",
    "    if dealers_hand > 21:\n",
    "        print('Dealer is bust')\n",
    "        \n",
    "    \n",
    "def dealer_wins(dealers_hand, players_hand):\n",
    "    if dealers_hand==21:\n",
    "        print ('Dealer wins')\n",
    "    elif players_hand<dealers_hand:\n",
    "        print (\"Player wins\")\n",
    "    \n",
    "def push(dealers_hand,players_hand):\n",
    "    if dealers_hand<21  and dealers_hand==players_hand:\n",
    "        print('Push')"
   ]
  },
  {
   "cell_type": "markdown",
   "metadata": {},
   "source": [
    "### And now on to the game!!"
   ]
  },
  {
   "cell_type": "code",
   "execution_count": 30,
   "metadata": {},
   "outputs": [
    {
     "name": "stdout",
     "output_type": "stream",
     "text": [
      "Welcome to Blackjack game\n",
      "['Five of Diamonds', 'King of Hearts']\n",
      "Player's chips:100\n",
      "Please place a bet9\n",
      "Chips left:91\n",
      "Player's cards: 'Six of Spades', 'Eight of Clubs' 14 \n",
      "Dealer's cards: 'Hidden card', 'Four of Hearts' 11\n",
      "number of cards left: 48\n",
      "hit or standhit\n",
      "Player's cards: 'Six of Spades', 'Eight of Clubs', 'Ace of Diamonds' 25 \n",
      "Dealer's cards: 'Hidden card', 'Four of Hearts', 'Eight of Spades' 19\n",
      "number of cards left: 46\n"
     ]
    }
   ],
   "source": [
    "game=True\n",
    "while game:\n",
    "    # Print an opening statement\n",
    "    print('Welcome to Blackjack game')\n",
    "    playercards=[]\n",
    "    dealercards=[]\n",
    "    \n",
    "    \n",
    "\n",
    "    \n",
    "    # Create & shuffle the deck, deal two cards to each player\n",
    "\n",
    "    deck = Deck()\n",
    "    deck.shuffle()\n",
    "    playerhand=Hand()\n",
    "    dealerhand=Hand()\n",
    "    for i in range(0,2):\n",
    "        \n",
    "    \n",
    "    \n",
    "        playercards+= playerhand.add_card([deck.deal()])\n",
    "        \n",
    "        dealercards+= dealerhand.add_card([deck.deal()])\n",
    "           \n",
    "    # Set up the Player's chips\n",
    "    print(player)\n",
    "    chips=Chips()\n",
    "    \n",
    "    print(f\"Player's chips:{chips.bet_return(0)}\")\n",
    "    \n",
    "    # Prompt the Player for their bet\n",
    "    playerchips=chips.bet_return(0)\n",
    "    bet=take_bet(playerchips)\n",
    "    print(f'Chips left:{chips.bet_return(bet)}')\n",
    "    playerchips=chips.bet_return(bet)\n",
    "   \n",
    "    (player,dealer)=show_some(playercards[0],dealercards[0])\n",
    "\n",
    "    \n",
    "    # Show cards (but keep one dealer card hidden)\n",
    "    print(f\"Player's cards: {str(playercards[0]).replace('[','').replace(']','')} {playercards[-1]} \\nDealer's cards: {str(dealer).replace('[','').replace(']','')} {dealercards[-1]}\")\n",
    "    #(player,dealer)=show_some([playercard1,playercard2],[dealercard1,dealercard2])\n",
    "    #print (f\"Player's cards: {str(player).replace('[','').replace(']',' ')} \\nDealer's cards: {str(dealer).replace('[','').replace(']',' ')}\")\n",
    "    count=0\n",
    "    for i in deck.deck_return():\n",
    "          count+=1\n",
    "    print(f'number of cards left: {count}')     \n",
    "    \n",
    "    \n",
    "    while playing:  # recall this variable from our hit_or_stand function\n",
    "        \n",
    "        # Prompt for Player to Hit or Stand\n",
    "        play=input(\"hit or stand\")\n",
    "        if play=='hit':\n",
    "            for i in range(0,1):\n",
    "                #player1=deck.deal()\n",
    "                #dealer1=deck.deal()\n",
    "                #playercards=hit(playercards,deck.deal())\n",
    "                playercards+= playerhand.add_card([deck.deal()])\n",
    "                dealercards+= dealerhand.add_card([deck.deal()])\n",
    "                \n",
    "                \n",
    "        else:\n",
    "            playing=False\n",
    "            game= False\n",
    "        \n",
    "        \n",
    "        \n",
    "        \n",
    "        \n",
    "        # Show cards (but keep one dealer card hidden)\n",
    "        (player,dealer)=show_some(playercards[0],dealercards[0]) \n",
    "        print(f\"Player's cards: {str(playercards[0]).replace('[','').replace(']','')} {playercards[-1]} \\nDealer's cards: {str(dealer).replace('[','').replace(']','')} {dealercards[-1]}\")  \n",
    "        count=0\n",
    "        for i in deck.deck_return():\n",
    "            count+=1\n",
    "        print(f'number of cards left: {count}')   \n",
    "        game= False\n",
    "        \n",
    "        # If player's hand exceeds 21, run player_busts() and break out of loop\n",
    "        \n",
    "\n",
    "        break\n",
    "\n",
    "    # If Player hasn't busted, play Dealer's hand until Dealer reaches 17\n",
    "    \n",
    "    \n",
    "        # Show all cards\n",
    "    \n",
    "        # Run different winning scenarios\n",
    "        \n",
    "    \n",
    "    # Inform Player of their chips total \n",
    "    \n",
    "    # Ask to play again\n",
    "\n"
   ]
  },
  {
   "cell_type": "markdown",
   "metadata": {},
   "source": [
    "And that's it! Remember, these steps may differ significantly from your own solution. That's OK! Keep working on different sections of your program until you get the desired results. It takes a lot of time and patience! As always, feel free to post questions and comments to the QA Forums.\n",
    "# Good job!"
   ]
  },
  {
   "cell_type": "code",
   "execution_count": null,
   "metadata": {},
   "outputs": [],
   "source": []
  }
 ],
 "metadata": {
  "kernelspec": {
   "display_name": "Python 3",
   "language": "python",
   "name": "python3"
  },
  "language_info": {
   "codemirror_mode": {
    "name": "ipython",
    "version": 3
   },
   "file_extension": ".py",
   "mimetype": "text/x-python",
   "name": "python",
   "nbconvert_exporter": "python",
   "pygments_lexer": "ipython3",
   "version": "3.7.4"
  }
 },
 "nbformat": 4,
 "nbformat_minor": 1
}
