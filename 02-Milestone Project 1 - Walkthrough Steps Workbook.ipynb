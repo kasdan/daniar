{
 "cells": [
  {
   "cell_type": "markdown",
   "metadata": {},
   "source": [
    "# Milestone Project 1: Walkthrough Steps Workbook\n",
    "\n",
    "Below is a set of steps for you to follow to try to create the Tic Tac Toe Milestone Project game!"
   ]
  },
  {
   "cell_type": "markdown",
   "metadata": {},
   "source": [
    "#### Some suggested tools before you get started:\n",
    "To take input from a user:\n",
    "\n",
    "    player1 = input(\"Please pick a marker 'X' or 'O'\")\n",
    "    \n",
    "Note that input() takes in a string. If you need an integer value, use\n",
    "\n",
    "    position = int(input('Please enter a number'))\n",
    "    \n",
    "<br>To clear the screen between moves:\n",
    "\n",
    "    from IPython.display import clear_output\n",
    "    clear_output()\n",
    "    \n",
    "Note that clear_output() will only work in jupyter. To clear the screen in other IDEs, consider:\n",
    "\n",
    "    print('\\n'*100)\n",
    "    \n",
    "This scrolls the previous board up out of view. Now on to the program!"
   ]
  },
  {
   "cell_type": "markdown",
   "metadata": {},
   "source": [
    "**Step 1: Write a function that can print out a board. Set up your board as a list, where each index 1-9 corresponds with a number on a number pad, so you get a 3 by 3 board representation.**"
   ]
  },
  {
   "cell_type": "code",
   "execution_count": 1,
   "metadata": {},
   "outputs": [],
   "source": [
    "from IPython.display import clear_output\n",
    "\n",
    "def display_board(board):\n",
    "    clear_output()\n",
    "    \n",
    "    print(board[0]+' | '+board[1]+' | '+board[2])\n",
    "    print('---------')\n",
    "    print(board[3]+' | '+board[4]+' | '+board[5])\n",
    "    print('---------')\n",
    "    print(board[6]+' | '+board[7]+' | '+board[8])\n",
    "    "
   ]
  },
  {
   "cell_type": "markdown",
   "metadata": {},
   "source": [
    "**TEST Step 1:** run your function on a test version of the board list, and make adjustments as necessary"
   ]
  },
  {
   "cell_type": "markdown",
   "metadata": {},
   "source": [
    "**Step 2: Write a function that can take in a player input and assign their marker as 'X' or 'O'. Think about using *while* loops to continually ask until you get a correct answer.**"
   ]
  },
  {
   "cell_type": "code",
   "execution_count": 2,
   "metadata": {},
   "outputs": [],
   "source": [
    "def player_input():\n",
    "    \n",
    "    playerinput=False\n",
    "    \n",
    "    while playerinput==False:\n",
    "        player1 = str(input(\"Player please pick a marker 'X' or 'O'\"))\n",
    "        if player1=='O':\n",
    "            player2='X'\n",
    "            playerinput=True\n",
    "        elif player1 == 'X':\n",
    "            player2='O'\n",
    "            playerinput=True\n",
    "    return (player1,player2)\n",
    "    "
   ]
  },
  {
   "cell_type": "markdown",
   "metadata": {},
   "source": [
    "**TEST Step 2:** run the function to make sure it returns the desired output"
   ]
  },
  {
   "cell_type": "markdown",
   "metadata": {},
   "source": [
    "**Step 3: Write a function that takes in the board list object, a marker ('X' or 'O'), and a desired position (number 1-9) and assigns it to the board.**"
   ]
  },
  {
   "cell_type": "code",
   "execution_count": 3,
   "metadata": {},
   "outputs": [],
   "source": [
    "from IPython.display import clear_output\n",
    "def place_marker(board, marker, position):\n",
    "    clear_output()\n",
    "    board[position-1]=marker\n",
    "    return board\n",
    "    "
   ]
  },
  {
   "cell_type": "markdown",
   "metadata": {},
   "source": [
    "**TEST Step 3:** run the place marker function using test parameters and display the modified board"
   ]
  },
  {
   "cell_type": "markdown",
   "metadata": {},
   "source": [
    "**Step 4: Write a function that takes in a board and a mark (X or O) and then checks to see if that mark has won. **"
   ]
  },
  {
   "cell_type": "code",
   "execution_count": 4,
   "metadata": {},
   "outputs": [],
   "source": [
    "def win_check(board, mark):\n",
    "    if len(list(set(board[0:3])))==1 and list(set(board[0:3]))[0] == mark:return True\n",
    "    elif len(list(set(board[3:6])))==1 and list(set(board[3:6]))[0] == mark:return True\n",
    "    elif len(list(set(board[6:9])))==1 and list(set(board[6:9]))[0] == mark: return True\n",
    "    elif len(list(set(board[0:7:3])))==1 and list(set(board[0:7:3]))[0] == mark: return True\n",
    "    elif len(list(set(board[1:8:3])))==1 and list(set(board[1:8:3]))[0] == mark: return True\n",
    "    elif len(list(set(board[2:9:3])))==1 and list(set(board[2:9:3]))[0] == mark: return True\n",
    "    elif len(list(set(board[0:9:4])))==1 and list(set(board[0:9:4]))[0] == mark: return True\n",
    "    elif len(list(set(board[2:7:2])))==1 and list(set(board[2:7:2]))[0] == mark: return True\n",
    "    \n",
    "    "
   ]
  },
  {
   "cell_type": "markdown",
   "metadata": {},
   "source": [
    "**TEST Step 4:** run the win_check function against our test_board - it should return True"
   ]
  },
  {
   "cell_type": "markdown",
   "metadata": {},
   "source": [
    "**Step 5: Write a function that uses the random module to randomly decide which player goes first. You may want to lookup random.randint() Return a string of which player went first.**"
   ]
  },
  {
   "cell_type": "code",
   "execution_count": 5,
   "metadata": {},
   "outputs": [],
   "source": [
    "import random\n",
    "\n",
    "def choose_first():\n",
    "    import random\n",
    "    num=random.randint(1,3)\n",
    "    if num==1:\n",
    "        #print(f\"'{player1}' goes first\")\n",
    "        return 1\n",
    "    else:\n",
    "       # print(f\"'{player2}' goes first\")\n",
    "        return 2"
   ]
  },
  {
   "cell_type": "markdown",
   "metadata": {},
   "source": [
    "**Step 6: Write a function that returns a boolean indicating whether a space on the board is freely available.**"
   ]
  },
  {
   "cell_type": "code",
   "execution_count": 6,
   "metadata": {},
   "outputs": [],
   "source": [
    "def space_check(board, position):\n",
    "    if board[position-1]=='':\n",
    "        return True\n",
    "    else:\n",
    "        return False\n",
    "                   \n",
    "    \n",
    "    "
   ]
  },
  {
   "cell_type": "markdown",
   "metadata": {},
   "source": [
    "**Step 7: Write a function that checks if the board is full and returns a boolean value. True if full, False otherwise.**"
   ]
  },
  {
   "cell_type": "code",
   "execution_count": 7,
   "metadata": {},
   "outputs": [],
   "source": [
    "def full_board_check(board):\n",
    "    freecell=0\n",
    "    occell=0\n",
    "    for pos in board:\n",
    "        if pos=='':\n",
    "            freecell+=1\n",
    "        else:\n",
    "            occell+=1\n",
    "    if freecell-occell==-9:\n",
    "        return True\n",
    "    else:\n",
    "        return False\n",
    "    \n",
    "        \n",
    "    "
   ]
  },
  {
   "cell_type": "markdown",
   "metadata": {},
   "source": [
    "**Step 8: Write a function that asks for a player's next position (as a number 1-9) and then uses the function from step 6 to check if it's a free position. If it is, then return the position for later use.**"
   ]
  },
  {
   "cell_type": "code",
   "execution_count": 11,
   "metadata": {},
   "outputs": [],
   "source": [
    "def player_choice(board,player):\n",
    "    playerinput=False\n",
    "    while playerinput==False:\n",
    "        playerpos = int(input(f\"Player '{player}' please pick a position 1 to 9 \"))\n",
    "        if type(playerpos)==int and playerpos<=9 and playerpos>=1:\n",
    "            posresult=space_check(board, playerpos)\n",
    "            if posresult==True:\n",
    "                playerinput=True\n",
    "                return playerpos\n",
    "            "
   ]
  },
  {
   "cell_type": "code",
   "execution_count": 9,
   "metadata": {},
   "outputs": [],
   "source": [
    "def replay():\n",
    "    #yes=['Y','y','Yes','yes']\n",
    "   # no=['N','n','No','no']\n",
    "    playerinput=False\n",
    "    while playerinput==False:\n",
    "        playerchoice = input(\"Do you want to play again yes/no \").lower()\n",
    "        if  playerchoice=='yes' or playerchoice=='y':\n",
    "                playerinput=True\n",
    "                return True\n",
    "        elif playerchoice=='n' or playerchoice=='no':\n",
    "                playerinput=True\n",
    "                return False\n",
    "        "
   ]
  },
  {
   "cell_type": "markdown",
   "metadata": {
    "collapsed": true
   },
   "source": [
    "**Step 10: Here comes the hard part! Use while loops and the functions you've made to run the game!**"
   ]
  },
  {
   "cell_type": "code",
   "execution_count": 20,
   "metadata": {},
   "outputs": [
    {
     "name": "stdout",
     "output_type": "stream",
     "text": [
      "The End\n"
     ]
    }
   ],
   "source": [
    "print('Welcome to Tic Tac Toe!')\n",
    "\n",
    "while True:\n",
    "    test_board = ['','','','','','','','','']\n",
    "    player1,player2=player_input()\n",
    "    turn=choose_first()\n",
    "    game_on=True\n",
    "\n",
    "    # Set the game up here\n",
    "    #pass\n",
    "\n",
    "    while game_on:\n",
    "         #Player 1 Turn\n",
    "        while full_board_check(test_board)==False:\n",
    "            if turn==1:\n",
    "                playerpos1=player_choice(test_board,player1)\n",
    "                display_board(place_marker(test_board,player1,playerpos1))\n",
    "                if win_check(test_board,player1):\n",
    "                    print(f'{player1} wins')\n",
    "                    game_on=False\n",
    "                    break\n",
    "                turn=2\n",
    "            elif turn==2:\n",
    "                playerpos2=player_choice(test_board,player2)\n",
    "                display_board(place_marker(test_board,player2,playerpos2))\n",
    "                if win_check(test_board,player2):\n",
    "                    print(f'{player2} wins')\n",
    "                    game_on=False\n",
    "                    break\n",
    "                turn=1\n",
    "        if full_board_check(test_board):\n",
    "            break\n",
    "    if not replay():\n",
    "        clear_output()\n",
    "        print('The End')\n",
    "        break \n",
    "    else:\n",
    "        clear_output()\n",
    "        print('New game')"
   ]
  },
  {
   "cell_type": "markdown",
   "metadata": {
    "collapsed": true
   },
   "source": [
    "## Good Job!"
   ]
  },
  {
   "cell_type": "code",
   "execution_count": null,
   "metadata": {},
   "outputs": [],
   "source": []
  },
  {
   "cell_type": "code",
   "execution_count": null,
   "metadata": {},
   "outputs": [],
   "source": []
  }
 ],
 "metadata": {
  "celltoolbar": "Raw Cell Format",
  "kernelspec": {
   "display_name": "Python 3",
   "language": "python",
   "name": "python3"
  },
  "language_info": {
   "codemirror_mode": {
    "name": "ipython",
    "version": 3
   },
   "file_extension": ".py",
   "mimetype": "text/x-python",
   "name": "python",
   "nbconvert_exporter": "python",
   "pygments_lexer": "ipython3",
   "version": "3.7.4"
  }
 },
 "nbformat": 4,
 "nbformat_minor": 1
}
